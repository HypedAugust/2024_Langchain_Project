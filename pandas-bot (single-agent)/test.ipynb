{
 "cells": [
  {
   "cell_type": "code",
   "execution_count": 29,
   "metadata": {},
   "outputs": [],
   "source": [
    "# 환경 변수에서 API 키 가져오기 \n",
    "import os\n",
    "from dotenv import load_dotenv\n",
    "load_dotenv()\n",
    "OPEN_API_KEY = os.getenv(\"OPEN_AI_KEY\")"
   ]
  },
  {
   "cell_type": "code",
   "execution_count": 30,
   "metadata": {},
   "outputs": [],
   "source": [
    "# pandas 불러오기 \n",
    "import pandas as pd \n",
    "\n",
    "train = pd.read_csv('./data/train.csv')\n",
    "# train.head() # 데이터 프레임의 첫 5 행을 보여주는 명령어. "
   ]
  },
  {
   "cell_type": "code",
   "execution_count": 31,
   "metadata": {},
   "outputs": [],
   "source": [
    "# 에이전트 생성 \n",
    "# langchain 문서 - Integrations 메뉴 - Toolkit - pandas data frame \n",
    "from langchain.agents.agent_types import AgentType\n",
    "from langchain_experimental.agents.agent_toolkits import create_pandas_dataframe_agent\n",
    "from langchain_openai import ChatOpenAI"
   ]
  },
  {
   "cell_type": "code",
   "execution_count": 32,
   "metadata": {},
   "outputs": [],
   "source": [
    "# llm 모델 정해주는 코드 \n",
    "\n",
    "llm = ChatOpenAI(model='gpt-3.5-turbo-0125', temperature=0,\n",
    "                 api_key=OPEN_API_KEY) # 사실 모델은 4를 쓰는게 더 안정적이다. \n",
    "\n",
    "agent_executor = create_pandas_dataframe_agent(\n",
    "    llm, # 모델 전달해주기 \n",
    "    train, # 분석에 쓸 데이터프레임을 전달한다. \n",
    "    agent_type=\"openai-tools\", # 이건 open ai에서 주는거 쓸거임. \n",
    "    verbose=True, # 이거 체크하면 에이전트가 뭘 하는지 로그로출력이 가능하다. \n",
    "    return_intermediate_steps=True, # 이걸 True 설정하면 중간과정을 보여준다. \n",
    "    allow_dangerous_code=True # 보안 경고에 대응하기 위해 추가\n",
    ")\n",
    "\n"
   ]
  },
  {
   "cell_type": "markdown",
   "metadata": {},
   "source": [
    "테스트 1"
   ]
  },
  {
   "cell_type": "code",
   "execution_count": 33,
   "metadata": {},
   "outputs": [
    {
     "name": "stdout",
     "output_type": "stream",
     "text": [
      "\n",
      "\n",
      "\u001b[1m> Entering new AgentExecutor chain...\u001b[0m\n",
      "\u001b[32;1m\u001b[1;3m\n",
      "Invoking: `python_repl_ast` with `{'query': 'df.shape'}`\n",
      "\n",
      "\n",
      "\u001b[0m\u001b[36;1m\u001b[1;3m(1460, 81)\u001b[0m\u001b[32;1m\u001b[1;3m이 데이터프레임에는 1460개의 행과 81개의 열이 있습니다.\u001b[0m\n",
      "\n",
      "\u001b[1m> Finished chain.\u001b[0m\n"
     ]
    },
    {
     "data": {
      "text/plain": [
       "{'input': '행과 열의 개수는 얼마인가요?',\n",
       " 'output': '이 데이터프레임에는 1460개의 행과 81개의 열이 있습니다.',\n",
       " 'intermediate_steps': [(ToolAgentAction(tool='python_repl_ast', tool_input={'query': 'df.shape'}, log=\"\\nInvoking: `python_repl_ast` with `{'query': 'df.shape'}`\\n\\n\\n\", message_log=[AIMessageChunk(content='', additional_kwargs={'tool_calls': [{'index': 0, 'id': 'call_G7O93VDVu93OeNWE4JNzvQ5B', 'function': {'arguments': '{\"query\":\"df.shape\"}', 'name': 'python_repl_ast'}, 'type': 'function'}]}, response_metadata={'finish_reason': 'tool_calls', 'model_name': 'gpt-3.5-turbo-0125'}, id='run-0b2ff7e2-3895-441b-8701-839237fad984', tool_calls=[{'name': 'python_repl_ast', 'args': {'query': 'df.shape'}, 'id': 'call_G7O93VDVu93OeNWE4JNzvQ5B', 'type': 'tool_call'}], tool_call_chunks=[{'name': 'python_repl_ast', 'args': '{\"query\":\"df.shape\"}', 'id': 'call_G7O93VDVu93OeNWE4JNzvQ5B', 'index': 0, 'type': 'tool_call_chunk'}])], tool_call_id='call_G7O93VDVu93OeNWE4JNzvQ5B'),\n",
       "   (1460, 81))]}"
      ]
     },
     "execution_count": 33,
     "metadata": {},
     "output_type": "execute_result"
    }
   ],
   "source": [
    "# 에이전트를 글로 실행해보자. \n",
    "agent_executor.invoke('행과 열의 개수는 얼마인가요?')"
   ]
  },
  {
   "cell_type": "markdown",
   "metadata": {},
   "source": [
    "테스트 2"
   ]
  },
  {
   "cell_type": "code",
   "execution_count": 34,
   "metadata": {},
   "outputs": [
    {
     "name": "stdout",
     "output_type": "stream",
     "text": [
      "\n",
      "\n",
      "\u001b[1m> Entering new AgentExecutor chain...\u001b[0m\n"
     ]
    },
    {
     "data": {
      "image/png": "[encoded data removed]",
      "text/plain": [
       "<Figure size 640x480 with 1 Axes>"
      ]
     },
     "metadata": {},
     "output_type": "display_data"
    },
    {
     "name": "stdout",
     "output_type": "stream",
     "text": [
      "\u001b[32;1m\u001b[1;3m\n",
      "Invoking: `python_repl_ast` with `{'query': \"import matplotlib.pyplot as plt\\n\\nplt.hist(df['SalePrice'], bins=30, color='skyblue', edgecolor='black')\\nplt.xlabel('Sale Price')\\nplt.ylabel('Frequency')\\nplt.title('Distribution of Sale Prices')\\nplt.show()\"}`\n",
      "\n",
      "\n",
      "\u001b[0m\u001b[36;1m\u001b[1;3m\u001b[0m\u001b[32;1m\u001b[1;3m주택가격의 분포를 나타내는 히스토그램이 생성되었습니다. 이 히스토그램은 주택가격별 빈도수를 보여줍니다.\u001b[0m\n",
      "\n",
      "\u001b[1m> Finished chain.\u001b[0m\n"
     ]
    }
   ],
   "source": [
    "# 에이전트를 시각화로 실행해보자\n",
    "response = agent_executor.invoke('주택가격 분포를 히스토그램으로 나타내주세요.')"
   ]
  },
  {
   "cell_type": "code",
   "execution_count": 35,
   "metadata": {},
   "outputs": [
    {
     "data": {
      "text/plain": [
       "{'input': '주택가격 분포를 히스토그램으로 나타내주세요.',\n",
       " 'output': '주택가격의 분포를 나타내는 히스토그램이 생성되었습니다. 이 히스토그램은 주택가격별 빈도수를 보여줍니다.',\n",
       " 'intermediate_steps': [(ToolAgentAction(tool='python_repl_ast', tool_input={'query': \"import matplotlib.pyplot as plt\\n\\nplt.hist(df['SalePrice'], bins=30, color='skyblue', edgecolor='black')\\nplt.xlabel('Sale Price')\\nplt.ylabel('Frequency')\\nplt.title('Distribution of Sale Prices')\\nplt.show()\"}, log='\\nInvoking: `python_repl_ast` with `{\\'query\\': \"import matplotlib.pyplot as plt\\\\n\\\\nplt.hist(df[\\'SalePrice\\'], bins=30, color=\\'skyblue\\', edgecolor=\\'black\\')\\\\nplt.xlabel(\\'Sale Price\\')\\\\nplt.ylabel(\\'Frequency\\')\\\\nplt.title(\\'Distribution of Sale Prices\\')\\\\nplt.show()\"}`\\n\\n\\n', message_log=[AIMessageChunk(content='', additional_kwargs={'tool_calls': [{'index': 0, 'id': 'call_3oWTGw3lXh0mTFXEg4QEBYBM', 'function': {'arguments': '{\"query\":\"import matplotlib.pyplot as plt\\\\n\\\\nplt.hist(df[\\'SalePrice\\'], bins=30, color=\\'skyblue\\', edgecolor=\\'black\\')\\\\nplt.xlabel(\\'Sale Price\\')\\\\nplt.ylabel(\\'Frequency\\')\\\\nplt.title(\\'Distribution of Sale Prices\\')\\\\nplt.show()\"}', 'name': 'python_repl_ast'}, 'type': 'function'}]}, response_metadata={'finish_reason': 'tool_calls', 'model_name': 'gpt-3.5-turbo-0125'}, id='run-be36dfd9-47d5-4cdd-8498-e40b51062eca', tool_calls=[{'name': 'python_repl_ast', 'args': {'query': \"import matplotlib.pyplot as plt\\n\\nplt.hist(df['SalePrice'], bins=30, color='skyblue', edgecolor='black')\\nplt.xlabel('Sale Price')\\nplt.ylabel('Frequency')\\nplt.title('Distribution of Sale Prices')\\nplt.show()\"}, 'id': 'call_3oWTGw3lXh0mTFXEg4QEBYBM', 'type': 'tool_call'}], tool_call_chunks=[{'name': 'python_repl_ast', 'args': '{\"query\":\"import matplotlib.pyplot as plt\\\\n\\\\nplt.hist(df[\\'SalePrice\\'], bins=30, color=\\'skyblue\\', edgecolor=\\'black\\')\\\\nplt.xlabel(\\'Sale Price\\')\\\\nplt.ylabel(\\'Frequency\\')\\\\nplt.title(\\'Distribution of Sale Prices\\')\\\\nplt.show()\"}', 'id': 'call_3oWTGw3lXh0mTFXEg4QEBYBM', 'index': 0, 'type': 'tool_call_chunk'}])], tool_call_id='call_3oWTGw3lXh0mTFXEg4QEBYBM'),\n",
       "   '')]}"
      ]
     },
     "execution_count": 35,
     "metadata": {},
     "output_type": "execute_result"
    }
   ],
   "source": [
    "# 중간과정 보기 \n",
    "response"
   ]
  },
  {
   "cell_type": "code",
   "execution_count": 36,
   "metadata": {},
   "outputs": [
    {
     "data": {
      "text/plain": [
       "1"
      ]
     },
     "execution_count": 36,
     "metadata": {},
     "output_type": "execute_result"
    }
   ],
   "source": [
    "intermediate_actions = response['intermediate_steps']\n",
    "len(intermediate_actions)"
   ]
  },
  {
   "cell_type": "code",
   "execution_count": 37,
   "metadata": {},
   "outputs": [
    {
     "data": {
      "text/plain": [
       "\"import matplotlib.pyplot as plt\\n\\nplt.hist(df['SalePrice'], bins=30, color='skyblue', edgecolor='black')\\nplt.xlabel('Sale Price')\\nplt.ylabel('Frequency')\\nplt.title('Distribution of Sale Prices')\\nplt.show()\""
      ]
     },
     "execution_count": 37,
     "metadata": {},
     "output_type": "execute_result"
    }
   ],
   "source": [
    "intermediate_actions[0][0].tool_input['query']"
   ]
  },
  {
   "cell_type": "code",
   "execution_count": 39,
   "metadata": {},
   "outputs": [
    {
     "data": {
      "text/plain": [
       "\"import matplotlib.pyplot as plt\\n\\nplt.hist(df['SalePrice'], bins=30, color='skyblue', edgecolor='black')\\nplt.xlabel('Sale Price')\\nplt.ylabel('Frequency')\\nplt.title('Distribution of Sale Prices')\\nplt.show()\""
      ]
     },
     "execution_count": 39,
     "metadata": {},
     "output_type": "execute_result"
    }
   ],
   "source": [
    "python_code = response['intermediate_steps'][0][0].tool_input['query']\n",
    "python_code"
   ]
  },
  {
   "cell_type": "code",
   "execution_count": 41,
   "metadata": {},
   "outputs": [
    {
     "data": {
      "image/png": "[encoded data removed]",
      "text/plain": [
       "<Figure size 640x480 with 1 Axes>"
      ]
     },
     "metadata": {},
     "output_type": "display_data"
    }
   ],
   "source": [
    "df = train.copy()\n",
    "\n",
    "exec(python_code)"
   ]
  }
 ],
 "metadata": {
  "kernelspec": {
   "display_name": "pandas-bot-gF-4p03Q-py3.12",
   "language": "python",
   "name": "python3"
  },
  "language_info": {
   "codemirror_mode": {
    "name": "ipython",
    "version": 3
   },
   "file_extension": ".py",
   "mimetype": "text/x-python",
   "name": "python",
   "nbconvert_exporter": "python",
   "pygments_lexer": "ipython3",
   "version": "3.12.3"
  }
 },
 "nbformat": 4,
 "nbformat_minor": 2
}
